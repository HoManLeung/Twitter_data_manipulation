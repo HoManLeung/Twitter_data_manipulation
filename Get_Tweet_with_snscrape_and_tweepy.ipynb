{
  "nbformat": 4,
  "nbformat_minor": 0,
  "metadata": {
    "kernelspec": {
      "display_name": "Python 3",
      "language": "python",
      "name": "python3"
    },
    "language_info": {
      "codemirror_mode": {
        "name": "ipython",
        "version": 3
      },
      "file_extension": ".py",
      "mimetype": "text/x-python",
      "name": "python",
      "nbconvert_exporter": "python",
      "pygments_lexer": "ipython3",
      "version": "3.8.3"
    },
    "colab": {
      "name": "Get Tweet with snscrape and tweepy.ipynb",
      "provenance": [],
      "collapsed_sections": []
    }
  },
  "cells": [
    {
      "cell_type": "code",
      "metadata": {
        "id": "qUO3H9oHasHF",
        "outputId": "42cbb6ec-df8a-4d88-a98a-922a2227a639"
      },
      "source": [
        "pip install tweepy"
      ],
      "execution_count": null,
      "outputs": [
        {
          "output_type": "stream",
          "text": [
            "Requirement already satisfied: tweepy in c:\\users\\asuspc\\anaconda3\\lib\\site-packages (3.9.0)\n",
            "Requirement already satisfied: requests[socks]>=2.11.1 in c:\\users\\asuspc\\anaconda3\\lib\\site-packages (from tweepy) (2.24.0)\n",
            "Requirement already satisfied: six>=1.10.0 in c:\\users\\asuspc\\anaconda3\\lib\\site-packages (from tweepy) (1.15.0)\n",
            "Requirement already satisfied: requests-oauthlib>=0.7.0 in c:\\users\\asuspc\\anaconda3\\lib\\site-packages (from tweepy) (1.3.0)\n",
            "Requirement already satisfied: certifi>=2017.4.17 in c:\\users\\asuspc\\anaconda3\\lib\\site-packages (from requests[socks]>=2.11.1->tweepy) (2020.6.20)\n",
            "Requirement already satisfied: idna<3,>=2.5 in c:\\users\\asuspc\\anaconda3\\lib\\site-packages (from requests[socks]>=2.11.1->tweepy) (2.10)\n",
            "Requirement already satisfied: urllib3!=1.25.0,!=1.25.1,<1.26,>=1.21.1 in c:\\users\\asuspc\\anaconda3\\lib\\site-packages (from requests[socks]>=2.11.1->tweepy) (1.25.9)\n",
            "Requirement already satisfied: chardet<4,>=3.0.2 in c:\\users\\asuspc\\anaconda3\\lib\\site-packages (from requests[socks]>=2.11.1->tweepy) (3.0.4)\n",
            "Requirement already satisfied: PySocks!=1.5.7,>=1.5.6; extra == \"socks\" in c:\\users\\asuspc\\anaconda3\\lib\\site-packages (from requests[socks]>=2.11.1->tweepy) (1.7.1)\n",
            "Requirement already satisfied: oauthlib>=3.0.0 in c:\\users\\asuspc\\anaconda3\\lib\\site-packages (from requests-oauthlib>=0.7.0->tweepy) (3.1.0)\n",
            "Note: you may need to restart the kernel to use updated packages.\n"
          ],
          "name": "stdout"
        }
      ]
    },
    {
      "cell_type": "code",
      "metadata": {
        "id": "AqpwRKI1asIl"
      },
      "source": [
        "import GetOldTweets3 as got\n",
        "import pandas as pd\n",
        "import datetime as dt\n",
        "import tweepy\n",
        "import snscrape.modules.twitter as sntwitter\n",
        "import googletrans"
      ],
      "execution_count": null,
      "outputs": []
    },
    {
      "cell_type": "code",
      "metadata": {
        "id": "n1CER5flasJf",
        "outputId": "8e8a2c04-d230-4a01-f9e4-8d2e214c86d2"
      },
      "source": [
        "crime=pd.read_csv(\"C:/Users/AsusPC/Desktop/Saint Peter's University Note/Capstone Project/Portugual/Albufeira_google_drive/drive-download-20201007T133920Z-001/Albufeira_Crimes_2019_GEOREF.csv\")\n",
        "crime.info()"
      ],
      "execution_count": null,
      "outputs": [
        {
          "output_type": "stream",
          "text": [
            "<class 'pandas.core.frame.DataFrame'>\n",
            "RangeIndex: 2919 entries, 0 to 2918\n",
            "Data columns (total 35 columns):\n",
            " #   Column         Non-Null Count  Dtype  \n",
            "---  ------         --------------  -----  \n",
            " 0   Unnamed: 0     2919 non-null   int64  \n",
            " 1   FID            2919 non-null   int64  \n",
            " 2   Cod_georef     2919 non-null   object \n",
            " 3   Cod            2919 non-null   float64\n",
            " 4   LaTITUDE       2919 non-null   float64\n",
            " 5   LoNGITUDE      2919 non-null   float64\n",
            " 6   Y              2919 non-null   float64\n",
            " 7   X              2919 non-null   float64\n",
            " 8   date_occur     2919 non-null   object \n",
            " 9   year_NUIPc     2919 non-null   float64\n",
            " 10  title_created  2919 non-null   object \n",
            " 11  type           2919 non-null   object \n",
            " 12  suspects       2919 non-null   float64\n",
            " 13  suspects_1     2919 non-null   float64\n",
            " 14  suspects_2     2919 non-null   float64\n",
            " 15  suspects_3     2919 non-null   float64\n",
            " 16  suspects_4     2919 non-null   float64\n",
            " 17  suspects_5     2919 non-null   float64\n",
            " 18  suspects_6     2919 non-null   float64\n",
            " 19  detainees      2919 non-null   float64\n",
            " 20  injured 1      2919 non-null   float64\n",
            " 21  injured 2      2919 non-null   float64\n",
            " 22  injured 3      2919 non-null   float64\n",
            " 23  injured 4      2919 non-null   float64\n",
            " 24  injured 5      2919 non-null   float64\n",
            " 25  injured 6      2919 non-null   float64\n",
            " 26  value          2919 non-null   float64\n",
            " 27  currency       2919 non-null   object \n",
            " 28  unit           2919 non-null   object \n",
            " 29  subunit        2919 non-null   object \n",
            " 30  part           260 non-null    object \n",
            " 31  District       2919 non-null   object \n",
            " 32  county         2919 non-null   object \n",
            " 33  parish         2919 non-null   object \n",
            " 34  country        2919 non-null   object \n",
            "dtypes: float64(21), int64(2), object(12)\n",
            "memory usage: 661.4+ KB\n"
          ],
          "name": "stdout"
        }
      ]
    },
    {
      "cell_type": "code",
      "metadata": {
        "id": "gc8tZZ0fasKH"
      },
      "source": [
        "crime_geo=pd.DataFrame({'Latitude':crime.LaTITUDE,'Longitude':crime.LoNGITUDE})"
      ],
      "execution_count": null,
      "outputs": []
    },
    {
      "cell_type": "code",
      "metadata": {
        "id": "SE8DbUNKasKy",
        "outputId": "36fef24f-8216-4bdc-e043-be649b05d2b0"
      },
      "source": [
        "crime_geo.head()"
      ],
      "execution_count": null,
      "outputs": [
        {
          "output_type": "execute_result",
          "data": {
            "text/html": [
              "<div>\n",
              "<style scoped>\n",
              "    .dataframe tbody tr th:only-of-type {\n",
              "        vertical-align: middle;\n",
              "    }\n",
              "\n",
              "    .dataframe tbody tr th {\n",
              "        vertical-align: top;\n",
              "    }\n",
              "\n",
              "    .dataframe thead th {\n",
              "        text-align: right;\n",
              "    }\n",
              "</style>\n",
              "<table border=\"1\" class=\"dataframe\">\n",
              "  <thead>\n",
              "    <tr style=\"text-align: right;\">\n",
              "      <th></th>\n",
              "      <th>Latitude</th>\n",
              "      <th>Longitude</th>\n",
              "    </tr>\n",
              "  </thead>\n",
              "  <tbody>\n",
              "    <tr>\n",
              "      <th>0</th>\n",
              "      <td>37.128609</td>\n",
              "      <td>-8.233111</td>\n",
              "    </tr>\n",
              "    <tr>\n",
              "      <th>1</th>\n",
              "      <td>37.093197</td>\n",
              "      <td>-8.264281</td>\n",
              "    </tr>\n",
              "    <tr>\n",
              "      <th>2</th>\n",
              "      <td>37.101135</td>\n",
              "      <td>-8.270679</td>\n",
              "    </tr>\n",
              "    <tr>\n",
              "      <th>3</th>\n",
              "      <td>37.093681</td>\n",
              "      <td>-8.194209</td>\n",
              "    </tr>\n",
              "    <tr>\n",
              "      <th>4</th>\n",
              "      <td>37.091339</td>\n",
              "      <td>-8.241792</td>\n",
              "    </tr>\n",
              "  </tbody>\n",
              "</table>\n",
              "</div>"
            ],
            "text/plain": [
              "    Latitude  Longitude\n",
              "0  37.128609  -8.233111\n",
              "1  37.093197  -8.264281\n",
              "2  37.101135  -8.270679\n",
              "3  37.093681  -8.194209\n",
              "4  37.091339  -8.241792"
            ]
          },
          "metadata": {
            "tags": []
          },
          "execution_count": 121
        }
      ]
    },
    {
      "cell_type": "code",
      "metadata": {
        "id": "kge-d6cJasLZ"
      },
      "source": [
        "crime_count=len(crime_geo)\n",
        "crime_chunk=(crime_count - 1) // 100+1"
      ],
      "execution_count": null,
      "outputs": []
    },
    {
      "cell_type": "code",
      "metadata": {
        "id": "h8mWv08basMI"
      },
      "source": [
        "def tweet_id(geo):\n",
        "    total_tweet=pd.DataFrame(columns=['user_name','date','url','id','Latitude','Longitude'])\n",
        "    for c in range(3,13):\n",
        "        for a,b in zip(geo.Latitude,geo.Longitude):\n",
        "            for i,tweet in enumerate(sntwitter.TwitterSearchScraper('geocode:{},{},15mi lang:en until:{} since:{} -filter:links -filter:replies'\n",
        "                                                                .format(a,b,dt.date(2019,c,30),dt.date(2019,c,1))).get_items()) :\n",
        "                if i > 100 :\n",
        "                    break\n",
        "                total_tweet=total_tweet.append({'user_name':tweet.username,'date':tweet.date,'url':tweet.url,'id':tweet.id,'Latitude':a,'Longitude':b},ignore_index=True)\n",
        "    total_tweet.to_csv('en_total_tweet_id_15m_Mar_Dec.csv')"
      ],
      "execution_count": null,
      "outputs": []
    },
    {
      "cell_type": "code",
      "metadata": {
        "id": "epcCcFXHasM-",
        "outputId": "fac02753-7a77-42f5-f05b-9d3a3925682f"
      },
      "source": [
        "for i in range(crime_chunk):\n",
        "        batch = crime_geo[i*100:(i+1)*100]\n",
        "        result = tweet_id(batch)"
      ],
      "execution_count": null,
      "outputs": [
        {
          "output_type": "stream",
          "text": [
            "Error retrieving https://api.twitter.com/2/search/adaptive.json?include_profile_interstitial_type=1&include_blocking=1&include_blocked_by=1&include_followed_by=1&include_want_retweets=1&include_mute_edge=1&include_can_dm=1&include_can_media_tag=1&skip_status=1&cards_platform=Web-12&include_cards=1&include_composer_source=true&include_ext_alt_text=true&include_reply_count=1&tweet_mode=extended&include_entities=true&include_user_entities=true&include_ext_media_color=true&include_ext_media_availability=true&send_error_codes=true&simple_quoted_tweets=true&q=geocode%3A37.100284576416016%2C-8.22746467590332%2C15mi+lang%3Aen+until%3A2019-05-30+since%3A2019-05-01+-filter%3Alinks+-filter%3Areplies&tweet_search_mode=live&count=100&query_source=spelling_expansion_revert_click&pc=1&spelling_corrections=1&ext=mediaStats%252CcameraMoment: non-200 status code, retrying\n",
            "Error retrieving https://twitter.com/search?f=live&lang=en&q=geocode%3A37.122968%2C-8.237514%2C15mi+lang%3Aen+until%3A2019-03-30+since%3A2019-03-01+-filter%3Alinks+-filter%3Areplies&src=spelling_expansion_revert_click: ConnectionError(ProtocolError('Connection aborted.', ConnectionResetError(10054, '遠端主機已強制關閉一個現存的連線。', None, 10054, None))), retrying\n",
            "Error retrieving https://api.twitter.com/2/search/adaptive.json?include_profile_interstitial_type=1&include_blocking=1&include_blocked_by=1&include_followed_by=1&include_want_retweets=1&include_mute_edge=1&include_can_dm=1&include_can_media_tag=1&skip_status=1&cards_platform=Web-12&include_cards=1&include_composer_source=true&include_ext_alt_text=true&include_reply_count=1&tweet_mode=extended&include_entities=true&include_user_entities=true&include_ext_media_color=true&include_ext_media_availability=true&send_error_codes=true&simple_quoted_tweets=true&q=geocode%3A37.122968%2C-8.237514%2C15mi+lang%3Aen+until%3A2019-03-30+since%3A2019-03-01+-filter%3Alinks+-filter%3Areplies&tweet_search_mode=live&count=100&query_source=spelling_expansion_revert_click&cursor=scroll%3AthGAVUV0VFVBaAgLaF5vfR2B4WgIC28cOjxe0eEjUAFQAlABEVnPl5FYCJehgHREVGQVVMVBUAFQAVARUAFQAA&pc=1&spelling_corrections=1&ext=mediaStats%252CcameraMoment: ConnectionError(ProtocolError('Connection aborted.', ConnectionResetError(10054, '遠端主機已強制關閉一個現存的連線。', None, 10054, None))), retrying\n",
            "Error retrieving https://api.twitter.com/2/search/adaptive.json?include_profile_interstitial_type=1&include_blocking=1&include_blocked_by=1&include_followed_by=1&include_want_retweets=1&include_mute_edge=1&include_can_dm=1&include_can_media_tag=1&skip_status=1&cards_platform=Web-12&include_cards=1&include_composer_source=true&include_ext_alt_text=true&include_reply_count=1&tweet_mode=extended&include_entities=true&include_user_entities=true&include_ext_media_color=true&include_ext_media_availability=true&send_error_codes=true&simple_quoted_tweets=true&q=geocode%3A37.12860870361328%2C-8.233111381530763%2C15mi+lang%3Aen+until%3A2019-04-30+since%3A2019-04-01+-filter%3Alinks+-filter%3Areplies&tweet_search_mode=live&count=100&query_source=spelling_expansion_revert_click&cursor=scroll%3AthGAVUV0VFVBaAwLWJpqOhjR8WgIC39bni15UfEjUAFQAlABEVnPl5FYCJehgHREVGQVVMVBUAFQAVARUAFQAA&pc=1&spelling_corrections=1&ext=mediaStats%252CcameraMoment: ConnectionError(ProtocolError('Connection aborted.', ConnectionResetError(10054, '遠端主機已強制關閉一個現存的連線。', None, 10054, None))), retrying\n",
            "Error retrieving https://api.twitter.com/2/search/adaptive.json?include_profile_interstitial_type=1&include_blocking=1&include_blocked_by=1&include_followed_by=1&include_want_retweets=1&include_mute_edge=1&include_can_dm=1&include_can_media_tag=1&skip_status=1&cards_platform=Web-12&include_cards=1&include_composer_source=true&include_ext_alt_text=true&include_reply_count=1&tweet_mode=extended&include_entities=true&include_user_entities=true&include_ext_media_color=true&include_ext_media_availability=true&send_error_codes=true&simple_quoted_tweets=true&q=geocode%3A37.09015274047852%2C-8.231456756591799%2C15mi+lang%3Aen+until%3A2019-08-30+since%3A2019-08-01+-filter%3Alinks+-filter%3Areplies&tweet_search_mode=live&count=100&query_source=spelling_expansion_revert_click&cursor=scroll%3AthGAVUV0VFVBaCgL_VqIHPryAWgMC68cqD57IgEjUAFQAlABEVnPl5FYCJehgHREVGQVVMVBUAFQAVARUAFQAA&pc=1&spelling_corrections=1&ext=mediaStats%252CcameraMoment: ConnectionError(ProtocolError('Connection aborted.', ConnectionResetError(10054, '遠端主機已強制關閉一個現存的連線。', None, 10054, None))), retrying\n"
          ],
          "name": "stderr"
        },
        {
          "output_type": "error",
          "ename": "ScraperException",
          "evalue": "Unable to find guest token",
          "traceback": [
            "\u001b[1;31m---------------------------------------------------------------------------\u001b[0m",
            "\u001b[1;31mScraperException\u001b[0m                          Traceback (most recent call last)",
            "\u001b[1;32m<ipython-input-124-8260f91e5f6a>\u001b[0m in \u001b[0;36m<module>\u001b[1;34m\u001b[0m\n\u001b[0;32m      1\u001b[0m \u001b[1;32mfor\u001b[0m \u001b[0mi\u001b[0m \u001b[1;32min\u001b[0m \u001b[0mrange\u001b[0m\u001b[1;33m(\u001b[0m\u001b[0mcrime_chunk\u001b[0m\u001b[1;33m)\u001b[0m\u001b[1;33m:\u001b[0m\u001b[1;33m\u001b[0m\u001b[1;33m\u001b[0m\u001b[0m\n\u001b[0;32m      2\u001b[0m         \u001b[0mbatch\u001b[0m \u001b[1;33m=\u001b[0m \u001b[0mcrime_geo\u001b[0m\u001b[1;33m[\u001b[0m\u001b[0mi\u001b[0m\u001b[1;33m*\u001b[0m\u001b[1;36m100\u001b[0m\u001b[1;33m:\u001b[0m\u001b[1;33m(\u001b[0m\u001b[0mi\u001b[0m\u001b[1;33m+\u001b[0m\u001b[1;36m1\u001b[0m\u001b[1;33m)\u001b[0m\u001b[1;33m*\u001b[0m\u001b[1;36m100\u001b[0m\u001b[1;33m]\u001b[0m\u001b[1;33m\u001b[0m\u001b[1;33m\u001b[0m\u001b[0m\n\u001b[1;32m----> 3\u001b[1;33m         \u001b[0mresult\u001b[0m \u001b[1;33m=\u001b[0m \u001b[0mtweet_id\u001b[0m\u001b[1;33m(\u001b[0m\u001b[0mbatch\u001b[0m\u001b[1;33m)\u001b[0m\u001b[1;33m\u001b[0m\u001b[1;33m\u001b[0m\u001b[0m\n\u001b[0m",
            "\u001b[1;32m<ipython-input-123-391c576bcc10>\u001b[0m in \u001b[0;36mtweet_id\u001b[1;34m(geo)\u001b[0m\n\u001b[0;32m      3\u001b[0m     \u001b[1;32mfor\u001b[0m \u001b[0mc\u001b[0m \u001b[1;32min\u001b[0m \u001b[0mrange\u001b[0m\u001b[1;33m(\u001b[0m\u001b[1;36m3\u001b[0m\u001b[1;33m,\u001b[0m\u001b[1;36m13\u001b[0m\u001b[1;33m)\u001b[0m\u001b[1;33m:\u001b[0m\u001b[1;33m\u001b[0m\u001b[1;33m\u001b[0m\u001b[0m\n\u001b[0;32m      4\u001b[0m         \u001b[1;32mfor\u001b[0m \u001b[0ma\u001b[0m\u001b[1;33m,\u001b[0m\u001b[0mb\u001b[0m \u001b[1;32min\u001b[0m \u001b[0mzip\u001b[0m\u001b[1;33m(\u001b[0m\u001b[0mgeo\u001b[0m\u001b[1;33m.\u001b[0m\u001b[0mLatitude\u001b[0m\u001b[1;33m,\u001b[0m\u001b[0mgeo\u001b[0m\u001b[1;33m.\u001b[0m\u001b[0mLongitude\u001b[0m\u001b[1;33m)\u001b[0m\u001b[1;33m:\u001b[0m\u001b[1;33m\u001b[0m\u001b[1;33m\u001b[0m\u001b[0m\n\u001b[1;32m----> 5\u001b[1;33m             for i,tweet in enumerate(sntwitter.TwitterSearchScraper('geocode:{},{},15mi lang:en until:{} since:{} -filter:links -filter:replies'\n\u001b[0m\u001b[0;32m      6\u001b[0m                                                                 .format(a,b,dt.date(2019,c,30),dt.date(2019,c,1))).get_items()) :\n\u001b[0;32m      7\u001b[0m                 \u001b[1;32mif\u001b[0m \u001b[0mi\u001b[0m \u001b[1;33m>\u001b[0m \u001b[1;36m100\u001b[0m \u001b[1;33m:\u001b[0m\u001b[1;33m\u001b[0m\u001b[1;33m\u001b[0m\u001b[0m\n",
            "\u001b[1;32m~\\anaconda3\\lib\\site-packages\\snscrape\\modules\\twitter.py\u001b[0m in \u001b[0;36mget_items\u001b[1;34m(self)\u001b[0m\n\u001b[0;32m    129\u001b[0m                 \u001b[1;32mwhile\u001b[0m \u001b[1;32mTrue\u001b[0m\u001b[1;33m:\u001b[0m\u001b[1;33m\u001b[0m\u001b[1;33m\u001b[0m\u001b[0m\n\u001b[0;32m    130\u001b[0m                         \u001b[1;32mif\u001b[0m \u001b[1;32mnot\u001b[0m \u001b[0mguestToken\u001b[0m\u001b[1;33m:\u001b[0m\u001b[1;33m\u001b[0m\u001b[1;33m\u001b[0m\u001b[0m\n\u001b[1;32m--> 131\u001b[1;33m                                 \u001b[0mguestToken\u001b[0m \u001b[1;33m=\u001b[0m \u001b[0mself\u001b[0m\u001b[1;33m.\u001b[0m\u001b[0m_get_guest_token\u001b[0m\u001b[1;33m(\u001b[0m\u001b[1;33m)\u001b[0m\u001b[1;33m\u001b[0m\u001b[1;33m\u001b[0m\u001b[0m\n\u001b[0m\u001b[0;32m    132\u001b[0m                                 \u001b[0mself\u001b[0m\u001b[1;33m.\u001b[0m\u001b[0m_session\u001b[0m\u001b[1;33m.\u001b[0m\u001b[0mcookies\u001b[0m\u001b[1;33m.\u001b[0m\u001b[0mset\u001b[0m\u001b[1;33m(\u001b[0m\u001b[1;34m'gt'\u001b[0m\u001b[1;33m,\u001b[0m \u001b[0mguestToken\u001b[0m\u001b[1;33m,\u001b[0m \u001b[0mdomain\u001b[0m \u001b[1;33m=\u001b[0m \u001b[1;34m'.twitter.com'\u001b[0m\u001b[1;33m,\u001b[0m \u001b[0mpath\u001b[0m \u001b[1;33m=\u001b[0m \u001b[1;34m'/'\u001b[0m\u001b[1;33m,\u001b[0m \u001b[0msecure\u001b[0m \u001b[1;33m=\u001b[0m \u001b[1;32mTrue\u001b[0m\u001b[1;33m,\u001b[0m \u001b[0mexpires\u001b[0m \u001b[1;33m=\u001b[0m \u001b[0mtime\u001b[0m\u001b[1;33m.\u001b[0m\u001b[0mtime\u001b[0m\u001b[1;33m(\u001b[0m\u001b[1;33m)\u001b[0m \u001b[1;33m+\u001b[0m \u001b[1;36m10800\u001b[0m\u001b[1;33m)\u001b[0m\u001b[1;33m\u001b[0m\u001b[1;33m\u001b[0m\u001b[0m\n\u001b[0;32m    133\u001b[0m                                 \u001b[0mheaders\u001b[0m\u001b[1;33m[\u001b[0m\u001b[1;34m'x-guest-token'\u001b[0m\u001b[1;33m]\u001b[0m \u001b[1;33m=\u001b[0m \u001b[0mguestToken\u001b[0m\u001b[1;33m\u001b[0m\u001b[1;33m\u001b[0m\u001b[0m\n",
            "\u001b[1;32m~\\anaconda3\\lib\\site-packages\\snscrape\\modules\\twitter.py\u001b[0m in \u001b[0;36m_get_guest_token\u001b[1;34m(self)\u001b[0m\n\u001b[0;32m    107\u001b[0m                         \u001b[0mlogger\u001b[0m\u001b[1;33m.\u001b[0m\u001b[0mdebug\u001b[0m\u001b[1;33m(\u001b[0m\u001b[1;34m'Found guest token in cookies'\u001b[0m\u001b[1;33m)\u001b[0m\u001b[1;33m\u001b[0m\u001b[1;33m\u001b[0m\u001b[0m\n\u001b[0;32m    108\u001b[0m                         \u001b[1;32mreturn\u001b[0m \u001b[0mr\u001b[0m\u001b[1;33m.\u001b[0m\u001b[0mcookies\u001b[0m\u001b[1;33m[\u001b[0m\u001b[1;34m'gt'\u001b[0m\u001b[1;33m]\u001b[0m\u001b[1;33m\u001b[0m\u001b[1;33m\u001b[0m\u001b[0m\n\u001b[1;32m--> 109\u001b[1;33m                 \u001b[1;32mraise\u001b[0m \u001b[0msnscrape\u001b[0m\u001b[1;33m.\u001b[0m\u001b[0mbase\u001b[0m\u001b[1;33m.\u001b[0m\u001b[0mScraperException\u001b[0m\u001b[1;33m(\u001b[0m\u001b[1;34m'Unable to find guest token'\u001b[0m\u001b[1;33m)\u001b[0m\u001b[1;33m\u001b[0m\u001b[1;33m\u001b[0m\u001b[0m\n\u001b[0m\u001b[0;32m    110\u001b[0m \u001b[1;33m\u001b[0m\u001b[0m\n\u001b[0;32m    111\u001b[0m         \u001b[1;32mdef\u001b[0m \u001b[0m_check_scroll_response\u001b[0m\u001b[1;33m(\u001b[0m\u001b[0mself\u001b[0m\u001b[1;33m,\u001b[0m \u001b[0mr\u001b[0m\u001b[1;33m)\u001b[0m\u001b[1;33m:\u001b[0m\u001b[1;33m\u001b[0m\u001b[1;33m\u001b[0m\u001b[0m\n",
            "\u001b[1;31mScraperException\u001b[0m: Unable to find guest token"
          ]
        }
      ]
    },
    {
      "cell_type": "code",
      "metadata": {
        "id": "Z9gA1j1HasNu"
      },
      "source": [
        "total_tweet=pd.read_csv(\"C:/Users/AsusPC/Desktop/Saint Peter's University Note/Capstone Project/en_total_tweet_id_15m_2019.csv\")"
      ],
      "execution_count": null,
      "outputs": []
    },
    {
      "cell_type": "code",
      "metadata": {
        "id": "KnQtA7RwasOi",
        "outputId": "1af6e53b-3624-4b14-ba8c-447cd792938a"
      },
      "source": [
        "total_tweet.head()"
      ],
      "execution_count": null,
      "outputs": [
        {
          "output_type": "execute_result",
          "data": {
            "text/html": [
              "<div>\n",
              "<style scoped>\n",
              "    .dataframe tbody tr th:only-of-type {\n",
              "        vertical-align: middle;\n",
              "    }\n",
              "\n",
              "    .dataframe tbody tr th {\n",
              "        vertical-align: top;\n",
              "    }\n",
              "\n",
              "    .dataframe thead th {\n",
              "        text-align: right;\n",
              "    }\n",
              "</style>\n",
              "<table border=\"1\" class=\"dataframe\">\n",
              "  <thead>\n",
              "    <tr style=\"text-align: right;\">\n",
              "      <th></th>\n",
              "      <th>Unnamed: 0</th>\n",
              "      <th>user_name</th>\n",
              "      <th>date</th>\n",
              "      <th>url</th>\n",
              "      <th>id</th>\n",
              "      <th>Latitude</th>\n",
              "      <th>Longitude</th>\n",
              "    </tr>\n",
              "  </thead>\n",
              "  <tbody>\n",
              "    <tr>\n",
              "      <th>0</th>\n",
              "      <td>0</td>\n",
              "      <td>davidaguas16</td>\n",
              "      <td>2019-03-29 19:50:59+00:00</td>\n",
              "      <td>https://twitter.com/davidaguas16/status/111171...</td>\n",
              "      <td>1111717407226322945</td>\n",
              "      <td>37.126476</td>\n",
              "      <td>-8.299664</td>\n",
              "    </tr>\n",
              "    <tr>\n",
              "      <th>1</th>\n",
              "      <td>1</td>\n",
              "      <td>aqnhnvpc</td>\n",
              "      <td>2019-03-29 18:29:59+00:00</td>\n",
              "      <td>https://twitter.com/aqnhnvpc/status/1111697026...</td>\n",
              "      <td>1111697026041954304</td>\n",
              "      <td>37.126476</td>\n",
              "      <td>-8.299664</td>\n",
              "    </tr>\n",
              "    <tr>\n",
              "      <th>2</th>\n",
              "      <td>2</td>\n",
              "      <td>JohnfrancisNST</td>\n",
              "      <td>2019-03-29 17:44:47+00:00</td>\n",
              "      <td>https://twitter.com/JohnfrancisNST/status/1111...</td>\n",
              "      <td>1111685647411134464</td>\n",
              "      <td>37.126476</td>\n",
              "      <td>-8.299664</td>\n",
              "    </tr>\n",
              "    <tr>\n",
              "      <th>3</th>\n",
              "      <td>3</td>\n",
              "      <td>catarinapj04</td>\n",
              "      <td>2019-03-29 17:18:14+00:00</td>\n",
              "      <td>https://twitter.com/catarinapj04/status/111167...</td>\n",
              "      <td>1111678967361257472</td>\n",
              "      <td>37.126476</td>\n",
              "      <td>-8.299664</td>\n",
              "    </tr>\n",
              "    <tr>\n",
              "      <th>4</th>\n",
              "      <td>4</td>\n",
              "      <td>catarinapj04</td>\n",
              "      <td>2019-03-29 16:36:54+00:00</td>\n",
              "      <td>https://twitter.com/catarinapj04/status/111166...</td>\n",
              "      <td>1111668567592833027</td>\n",
              "      <td>37.126476</td>\n",
              "      <td>-8.299664</td>\n",
              "    </tr>\n",
              "  </tbody>\n",
              "</table>\n",
              "</div>"
            ],
            "text/plain": [
              "   Unnamed: 0       user_name                       date  \\\n",
              "0           0    davidaguas16  2019-03-29 19:50:59+00:00   \n",
              "1           1        aqnhnvpc  2019-03-29 18:29:59+00:00   \n",
              "2           2  JohnfrancisNST  2019-03-29 17:44:47+00:00   \n",
              "3           3    catarinapj04  2019-03-29 17:18:14+00:00   \n",
              "4           4    catarinapj04  2019-03-29 16:36:54+00:00   \n",
              "\n",
              "                                                 url                   id  \\\n",
              "0  https://twitter.com/davidaguas16/status/111171...  1111717407226322945   \n",
              "1  https://twitter.com/aqnhnvpc/status/1111697026...  1111697026041954304   \n",
              "2  https://twitter.com/JohnfrancisNST/status/1111...  1111685647411134464   \n",
              "3  https://twitter.com/catarinapj04/status/111167...  1111678967361257472   \n",
              "4  https://twitter.com/catarinapj04/status/111166...  1111668567592833027   \n",
              "\n",
              "    Latitude  Longitude  \n",
              "0  37.126476  -8.299664  \n",
              "1  37.126476  -8.299664  \n",
              "2  37.126476  -8.299664  \n",
              "3  37.126476  -8.299664  \n",
              "4  37.126476  -8.299664  "
            ]
          },
          "metadata": {
            "tags": []
          },
          "execution_count": 126
        }
      ]
    },
    {
      "cell_type": "code",
      "metadata": {
        "id": "OdTsP-9QasPQ"
      },
      "source": [
        "af = lambda x: x[\"url\"].split(\"/\")[-1]\n",
        "total_tweet['id'] = total_tweet.apply(af, axis=1)"
      ],
      "execution_count": null,
      "outputs": []
    },
    {
      "cell_type": "code",
      "metadata": {
        "id": "iqbjs0dQasQI",
        "outputId": "c389b675-53ea-4ed3-dfe5-546fd6e30474"
      },
      "source": [
        "total_tweet.head()"
      ],
      "execution_count": null,
      "outputs": [
        {
          "output_type": "execute_result",
          "data": {
            "text/html": [
              "<div>\n",
              "<style scoped>\n",
              "    .dataframe tbody tr th:only-of-type {\n",
              "        vertical-align: middle;\n",
              "    }\n",
              "\n",
              "    .dataframe tbody tr th {\n",
              "        vertical-align: top;\n",
              "    }\n",
              "\n",
              "    .dataframe thead th {\n",
              "        text-align: right;\n",
              "    }\n",
              "</style>\n",
              "<table border=\"1\" class=\"dataframe\">\n",
              "  <thead>\n",
              "    <tr style=\"text-align: right;\">\n",
              "      <th></th>\n",
              "      <th>Unnamed: 0</th>\n",
              "      <th>user_name</th>\n",
              "      <th>date</th>\n",
              "      <th>url</th>\n",
              "      <th>id</th>\n",
              "      <th>Latitude</th>\n",
              "      <th>Longitude</th>\n",
              "    </tr>\n",
              "  </thead>\n",
              "  <tbody>\n",
              "    <tr>\n",
              "      <th>0</th>\n",
              "      <td>0</td>\n",
              "      <td>davidaguas16</td>\n",
              "      <td>2019-03-29 19:50:59+00:00</td>\n",
              "      <td>https://twitter.com/davidaguas16/status/111171...</td>\n",
              "      <td>1111717407226322945</td>\n",
              "      <td>37.126476</td>\n",
              "      <td>-8.299664</td>\n",
              "    </tr>\n",
              "    <tr>\n",
              "      <th>1</th>\n",
              "      <td>1</td>\n",
              "      <td>aqnhnvpc</td>\n",
              "      <td>2019-03-29 18:29:59+00:00</td>\n",
              "      <td>https://twitter.com/aqnhnvpc/status/1111697026...</td>\n",
              "      <td>1111697026041954304</td>\n",
              "      <td>37.126476</td>\n",
              "      <td>-8.299664</td>\n",
              "    </tr>\n",
              "    <tr>\n",
              "      <th>2</th>\n",
              "      <td>2</td>\n",
              "      <td>JohnfrancisNST</td>\n",
              "      <td>2019-03-29 17:44:47+00:00</td>\n",
              "      <td>https://twitter.com/JohnfrancisNST/status/1111...</td>\n",
              "      <td>1111685647411134464</td>\n",
              "      <td>37.126476</td>\n",
              "      <td>-8.299664</td>\n",
              "    </tr>\n",
              "    <tr>\n",
              "      <th>3</th>\n",
              "      <td>3</td>\n",
              "      <td>catarinapj04</td>\n",
              "      <td>2019-03-29 17:18:14+00:00</td>\n",
              "      <td>https://twitter.com/catarinapj04/status/111167...</td>\n",
              "      <td>1111678967361257472</td>\n",
              "      <td>37.126476</td>\n",
              "      <td>-8.299664</td>\n",
              "    </tr>\n",
              "    <tr>\n",
              "      <th>4</th>\n",
              "      <td>4</td>\n",
              "      <td>catarinapj04</td>\n",
              "      <td>2019-03-29 16:36:54+00:00</td>\n",
              "      <td>https://twitter.com/catarinapj04/status/111166...</td>\n",
              "      <td>1111668567592833027</td>\n",
              "      <td>37.126476</td>\n",
              "      <td>-8.299664</td>\n",
              "    </tr>\n",
              "  </tbody>\n",
              "</table>\n",
              "</div>"
            ],
            "text/plain": [
              "   Unnamed: 0       user_name                       date  \\\n",
              "0           0    davidaguas16  2019-03-29 19:50:59+00:00   \n",
              "1           1        aqnhnvpc  2019-03-29 18:29:59+00:00   \n",
              "2           2  JohnfrancisNST  2019-03-29 17:44:47+00:00   \n",
              "3           3    catarinapj04  2019-03-29 17:18:14+00:00   \n",
              "4           4    catarinapj04  2019-03-29 16:36:54+00:00   \n",
              "\n",
              "                                                 url                   id  \\\n",
              "0  https://twitter.com/davidaguas16/status/111171...  1111717407226322945   \n",
              "1  https://twitter.com/aqnhnvpc/status/1111697026...  1111697026041954304   \n",
              "2  https://twitter.com/JohnfrancisNST/status/1111...  1111685647411134464   \n",
              "3  https://twitter.com/catarinapj04/status/111167...  1111678967361257472   \n",
              "4  https://twitter.com/catarinapj04/status/111166...  1111668567592833027   \n",
              "\n",
              "    Latitude  Longitude  \n",
              "0  37.126476  -8.299664  \n",
              "1  37.126476  -8.299664  \n",
              "2  37.126476  -8.299664  \n",
              "3  37.126476  -8.299664  \n",
              "4  37.126476  -8.299664  "
            ]
          },
          "metadata": {
            "tags": []
          },
          "execution_count": 128
        }
      ]
    },
    {
      "cell_type": "code",
      "metadata": {
        "id": "zHptdXB0asQ1"
      },
      "source": [
        "tweet_id=total_tweet['id'].to_list()\n",
        "count=len(tweet_id)"
      ],
      "execution_count": null,
      "outputs": []
    },
    {
      "cell_type": "code",
      "metadata": {
        "id": "v53AUA0XasRj"
      },
      "source": [
        "chunks = (count - 1) // 100+1"
      ],
      "execution_count": null,
      "outputs": []
    },
    {
      "cell_type": "code",
      "metadata": {
        "id": "JzjHk0gPasSf"
      },
      "source": [
        "consumer_key = 'nyRVpnH1oXbgJg657TxUTZgtH'\n",
        "consumer_secret = 'IrrtnHvn9FNZhTMZHjI0YoJgYqr0ZH2X0FBAbmRtCpGJGIhSCs'\n",
        "access_token = '2403163399-876wzmLbA9FeUar1MUcEwX3DU4A8V2Ko7ROA768'\n",
        "access_token_secret = '1sdJ6ZyjTjPQSOgtpFGl4v4744yahNoUHdNPg5sZEDqky'"
      ],
      "execution_count": null,
      "outputs": []
    },
    {
      "cell_type": "code",
      "metadata": {
        "id": "bjQr54X6asTL"
      },
      "source": [
        "auth = tweepy.OAuthHandler(consumer_key, consumer_secret)\n",
        "auth.set_access_token(access_token, access_token_secret)\n",
        "\n",
        "api = tweepy.API(auth)"
      ],
      "execution_count": null,
      "outputs": []
    },
    {
      "cell_type": "code",
      "metadata": {
        "id": "YeYTuSINasT3"
      },
      "source": [
        "tran=googletrans.Translator()"
      ],
      "execution_count": null,
      "outputs": []
    },
    {
      "cell_type": "code",
      "metadata": {
        "id": "ztKyN9i_asUn"
      },
      "source": [
        "def fetch_tw(ids):\n",
        "    empty_data=pd.DataFrame()\n",
        "    list_of_tw_status = api.statuses_lookup(ids, tweet_mode= \"extended\")\n",
        "    for status in list_of_tw_status:\n",
        "            tweet_elem = {\"tweet_id\": status.id_str,\n",
        "                          \"screen_name\": status.user.screen_name,\n",
        "                          \"tweet\":status.full_text,\n",
        "                          \"coordinate\":status.coordinates}\n",
        "            empty_data = empty_data.append(tweet_elem, ignore_index = True)\n",
        "    empty_data.to_csv(\"Total_tweets_en\", mode=\"a\")"
      ],
      "execution_count": null,
      "outputs": []
    },
    {
      "cell_type": "code",
      "metadata": {
        "id": "DwbmbScfasVc"
      },
      "source": [
        "for i in range(chunks):\n",
        "        batch = tweet_id[i*100:(i+1)*100]\n",
        "        result = fetch_tw(batch)"
      ],
      "execution_count": null,
      "outputs": []
    },
    {
      "cell_type": "code",
      "metadata": {
        "id": "3lsuqn5casWS"
      },
      "source": [
        ""
      ],
      "execution_count": null,
      "outputs": []
    }
  ]
}